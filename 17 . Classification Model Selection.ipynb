{
 "cells": [
  {
   "cell_type": "markdown",
   "id": "d00ca570",
   "metadata": {},
   "source": [
    "# Classification Model Selection"
   ]
  },
  {
   "cell_type": "markdown",
   "id": "76dda459",
   "metadata": {},
   "source": [
    "## Data preprocessing\n",
    "\n",
    "✔️ Import the necessary libraries.\n",
    "\n",
    "✔️ Load dataset (Breast_Cancer.csv).\n",
    "\n",
    "❌ Our dataset doesn't have any missing data.\n",
    "\n",
    "❌ Our dataset doesn't have any string data.\n",
    "\n",
    "✔️ We have 684 data. So, we can split and have 75% for the training set and 25% for the testing set. \n",
    "\n",
    "✔️ Applying feature scaling for the dataset will improve the performance of the model."
   ]
  },
  {
   "cell_type": "code",
   "execution_count": 1,
   "id": "4cd8f5f4",
   "metadata": {},
   "outputs": [],
   "source": [
    "# Import libraries....\n",
    "import numpy as np\n",
    "import matplotlib.pyplot as plt\n",
    "import pandas as pd\n",
    "\n",
    "# setting two digits after decimal point...\n",
    "np.set_printoptions(precision=2)\n"
   ]
  },
  {
   "cell_type": "code",
   "execution_count": 2,
   "id": "024eb714",
   "metadata": {},
   "outputs": [],
   "source": [
    "dataset = pd.read_csv(r\"test_v3.csv\")\n",
    "X = dataset.iloc[:, [0,1,2,3,4,5,6,7,8]].values\n",
    "y = dataset.iloc[:, -1].values"
   ]
  },
  {
   "cell_type": "code",
   "execution_count": 3,
   "id": "f4570c1f",
   "metadata": {},
   "outputs": [
    {
     "name": "stdout",
     "output_type": "stream",
     "text": [
      "[[0 0 0 ... 0 0 2]\n",
      " [0 0 0 ... 0 0 2]\n",
      " [0 0 0 ... 0 0 2]\n",
      " ...\n",
      " [2 2 1 ... 0 1 0]\n",
      " [2 2 1 ... 1 0 0]\n",
      " [2 2 1 ... 1 0 0]]\n"
     ]
    }
   ],
   "source": [
    "from sklearn.preprocessing import LabelEncoder\n",
    "le = LabelEncoder()\n",
    "for i in range(0, 8+1):\n",
    "    X[:, i] = le.fit_transform(X[:, i])\n",
    "print(X)"
   ]
  },
  {
   "cell_type": "markdown",
   "id": "2aef8f27",
   "metadata": {},
   "source": [
    "## Train and evaluate the performance of Logistic Regression Classification\n"
   ]
  },
  {
   "cell_type": "code",
   "execution_count": 4,
   "id": "fe24929b",
   "metadata": {},
   "outputs": [
    {
     "name": "stdout",
     "output_type": "stream",
     "text": [
      "[[309  50  92  47  60  39  99  43 108]\n",
      " [ 67 226  63  44  21  43 167  16 170]\n",
      " [ 87  50 310  41  59  48 111  45 100]\n",
      " [ 66  49 167 211  18  15  71  49 163]\n",
      " [134  39 132  37 188  37 132  39 134]\n",
      " [162  49  68  12  18 214 170  49  67]\n",
      " [ 99  45 105  48  59  41 316  50  88]\n",
      " [168  13 165  43  21  44  65 229  69]\n",
      " [103  43  97  39  60  47  94  50 314]]\n",
      "Accuracy score for Logistic Regression Classification : 0.3081117021276596\n"
     ]
    }
   ],
   "source": [
    "# Training....\n",
    "from sklearn.metrics import confusion_matrix, accuracy_score\n",
    "from sklearn.linear_model import LogisticRegression\n",
    "logistic_regression_calssifier = LogisticRegression()\n",
    "logistic_regression_calssifier.fit(X, y)\n",
    "\n",
    "# Testing....\n",
    "y_pred = logistic_regression_calssifier.predict(X)\n",
    "\n",
    "# Confusion Matrix....\n",
    "print(confusion_matrix(y_true=y, y_pred=y_pred))\n",
    "# Score....\n",
    "acc_logistic_regression_classification = accuracy_score(\n",
    "    y_true=y, y_pred=y_pred)\n",
    "print(\"Accuracy score for Logistic Regression Classification :\",\n",
    "      acc_logistic_regression_classification)\n"
   ]
  },
  {
   "cell_type": "markdown",
   "id": "27446f3b",
   "metadata": {},
   "source": [
    "## Train and evaluate the performance of K Nearest Neighbor Classification"
   ]
  },
  {
   "cell_type": "code",
   "execution_count": 5,
   "id": "329c8ff5",
   "metadata": {},
   "outputs": [
    {
     "name": "stdout",
     "output_type": "stream",
     "text": [
      "[[403  76  44  57  71  24  38  86  48]\n",
      " [162 443  21  41  48  26  24  33  19]\n",
      " [191 178 256  70  46  26  35  36  13]\n",
      " [185 157  52 242  49  25  26  53  20]\n",
      " [195 196  76  78 205  20  34  53  15]\n",
      " [217 173  67  49  66 118  36  55  28]\n",
      " [222 195  60  69  59  28 140  60  18]\n",
      " [152 172  83  70  57  52  46 166  19]\n",
      " [212 195  76  77  61  38  36  69  83]]\n",
      "Accuracy score for K Nearest Neighbor Classification : 0.2734042553191489\n"
     ]
    }
   ],
   "source": [
    "# Training....\n",
    "from sklearn.metrics import confusion_matrix, accuracy_score\n",
    "from sklearn.neighbors import KNeighborsClassifier\n",
    "k_nn_calssifier = KNeighborsClassifier(n_neighbors=5, p=2, metric=\"minkowski\")\n",
    "k_nn_calssifier.fit(X, y)\n",
    "\n",
    "# Testing....\n",
    "y_pred = k_nn_calssifier.predict(X)\n",
    "\n",
    "\n",
    "# Confusion Matrix....\n",
    "print(confusion_matrix(y_true=y, y_pred=y_pred))\n",
    "# Score....\n",
    "acc_k_nearest_neighbor_classification = accuracy_score(\n",
    "    y_true=y, y_pred=y_pred)\n",
    "print(\"Accuracy score for K Nearest Neighbor Classification :\",\n",
    "      acc_k_nearest_neighbor_classification)\n"
   ]
  },
  {
   "cell_type": "markdown",
   "id": "67d089ff",
   "metadata": {},
   "source": [
    "## Train and evaluate the performance of (SVC) Support Vector Classification"
   ]
  },
  {
   "cell_type": "code",
   "execution_count": 6,
   "id": "f8e26b11",
   "metadata": {},
   "outputs": [
    {
     "name": "stdout",
     "output_type": "stream",
     "text": [
      "[[439  39 136  34   0   1  84   0 114]\n",
      " [ 93 127  91  23  63  23 194  20 183]\n",
      " [ 88  50 495   0   0  33 110   0  75]\n",
      " [ 80  58 220 109  63   6  76  18 179]\n",
      " [181  16 183   8 170   2 164   2 146]\n",
      " [204  48 102  15  69  96 190  18  67]\n",
      " [135  10 123  39  11   4 418  25  86]\n",
      " [197  15 228  44  75  40  71  76  71]\n",
      " [100   5 144   6  17  37 117  25 396]]\n",
      "Accuracy score for (SVC) Support Vector Classification : 0.3093085106382979\n"
     ]
    }
   ],
   "source": [
    "# Training....\n",
    "from sklearn.metrics import confusion_matrix, accuracy_score\n",
    "from sklearn.svm import SVC\n",
    "svc_calssifier = SVC(kernel=\"linear\", )\n",
    "svc_calssifier.fit(X, y)\n",
    "\n",
    "# Testing....\n",
    "y_pred = svc_calssifier.predict(X)\n",
    "\n",
    "# Confusion Matrix....\n",
    "print(confusion_matrix(y_true=y, y_pred=y_pred))\n",
    "# Score....\n",
    "acc_svc_support_vector_classification = accuracy_score(\n",
    "    y_true=y, y_pred=y_pred)\n",
    "print(\"Accuracy score for (SVC) Support Vector Classification :\",\n",
    "      acc_svc_support_vector_classification)\n"
   ]
  },
  {
   "cell_type": "markdown",
   "id": "ef77ebaf",
   "metadata": {},
   "source": [
    "## Train and evaluate the performance of Kernel (SVC) Support Vector Classification"
   ]
  },
  {
   "cell_type": "code",
   "execution_count": 7,
   "id": "a729375a",
   "metadata": {},
   "outputs": [
    {
     "name": "stdout",
     "output_type": "stream",
     "text": [
      "[[480  12 111  19   2   9 107   6 101]\n",
      " [117  64 118  31  55  30 194  15 193]\n",
      " [102  13 491   9   2  18 100   6 110]\n",
      " [115  22 198  81  53  12 118  22 188]\n",
      " [185   1 184   1 145   0 178   0 178]\n",
      " [192  23 120  13  54  79 192  22 114]\n",
      " [109   6 105  19   3   9 488  12 100]\n",
      " [192  16 197  31  58  31 114  62 116]\n",
      " [103   6 109   9   4  19 106  12 479]]\n",
      "Accuracy score for Kernel (SVC) Support Vector Classification : 0.31502659574468084\n"
     ]
    }
   ],
   "source": [
    "# Training....\n",
    "from sklearn.metrics import confusion_matrix, accuracy_score\n",
    "from sklearn.svm import SVC\n",
    "kernel_svc_calssifier = SVC(kernel=\"rbf\", )\n",
    "kernel_svc_calssifier.fit(X, y)\n",
    "\n",
    "# Testing....\n",
    "y_pred = kernel_svc_calssifier.predict(X)\n",
    "\n",
    "# Confusion Matrix....\n",
    "print(confusion_matrix(y_true=y, y_pred=y_pred))\n",
    "# Score....\n",
    "acc_kernel_support_vector_classification = accuracy_score(\n",
    "    y_true=y, y_pred=y_pred)\n",
    "print(\"Accuracy score for Kernel (SVC) Support Vector Classification :\",\n",
    "      acc_kernel_support_vector_classification)\n"
   ]
  },
  {
   "cell_type": "markdown",
   "id": "3936bc0f",
   "metadata": {},
   "source": [
    "## Train and evaluate the performance of Naive Bayes Classification"
   ]
  },
  {
   "cell_type": "code",
   "execution_count": 8,
   "id": "7a8fa199",
   "metadata": {},
   "outputs": [
    {
     "name": "stdout",
     "output_type": "stream",
     "text": [
      "[[ 45  82  13  99 320 132  17 122  17]\n",
      " [  0 307   0  81 298  75   0  56   0]\n",
      " [ 17  78  44 139 319  95  15 128  16]\n",
      " [  0  77   0 318 295  43   0  76   0]\n",
      " [  0   0   0   0 872   0   0   0   0]\n",
      " [  0  76   0  48 295 313   0  77   0]\n",
      " [ 16 130  16  97 319 137  43  76  17]\n",
      " [  0  58   0  76 298  80   0 305   0]\n",
      " [ 18 122  17 134 320  97  13  82  44]]\n",
      "Accuracy score for Naive Bayes Classification : 0.3046542553191489\n"
     ]
    }
   ],
   "source": [
    "# Training....\n",
    "from sklearn.metrics import confusion_matrix, accuracy_score\n",
    "from sklearn.naive_bayes import GaussianNB\n",
    "naive_bayes_calssifier = GaussianNB()\n",
    "naive_bayes_calssifier.fit(X, y)\n",
    "\n",
    "# Testing....\n",
    "y_pred = naive_bayes_calssifier.predict(X)\n",
    "\n",
    "# Confusion Matrix....\n",
    "print(confusion_matrix(y_true=y, y_pred=y_pred))\n",
    "# Score....\n",
    "acc_naive_bayes_classification = accuracy_score(y_true=y, y_pred=y_pred)\n",
    "print(\"Accuracy score for Naive Bayes Classification :\",\n",
    "      acc_naive_bayes_classification)\n"
   ]
  },
  {
   "cell_type": "markdown",
   "id": "c18e4683",
   "metadata": {},
   "source": [
    "## Train and evaluate the performance of Decision Tree Classification"
   ]
  },
  {
   "cell_type": "code",
   "execution_count": 9,
   "id": "fe87f657",
   "metadata": {},
   "outputs": [
    {
     "name": "stdout",
     "output_type": "stream",
     "text": [
      "[[847   0   0   0   0   0   0   0   0]\n",
      " [263 554   0   0   0   0   0   0   0]\n",
      " [277 184 390   0   0   0   0   0   0]\n",
      " [264 194 131 220   0   0   0   0   0]\n",
      " [308 203 135  79 147   0   0   0   0]\n",
      " [278 185 124  73  51  98   0   0   0]\n",
      " [280 197 129  79  56  38  72   0   0]\n",
      " [279 183 130  78  54  36  25  32   0]\n",
      " [279 195 130  80  56  35  26  25  21]]\n",
      "Accuracy score for Decision Tree Classification : 0.3166223404255319\n"
     ]
    }
   ],
   "source": [
    "# Training....\n",
    "from sklearn.metrics import confusion_matrix, accuracy_score\n",
    "from sklearn.tree import DecisionTreeClassifier\n",
    "decision_tree_calssifier = DecisionTreeClassifier(criterion='entropy')\n",
    "decision_tree_calssifier.fit(X, y)\n",
    "\n",
    "# Testing....\n",
    "y_pred = decision_tree_calssifier.predict(X)\n",
    "\n",
    "# Confusion Matrix....\n",
    "print(confusion_matrix(y_true=y, y_pred=y_pred))\n",
    "# Score....\n",
    "acc_decision_tree_classification = accuracy_score(y_true=y, y_pred=y_pred)\n",
    "print(\"Accuracy score for Decision Tree Classification :\",\n",
    "      acc_decision_tree_classification)\n"
   ]
  },
  {
   "cell_type": "markdown",
   "id": "95c7123b",
   "metadata": {},
   "source": [
    "## Train and evaluate the performance of Random Forest Classification"
   ]
  },
  {
   "cell_type": "code",
   "execution_count": 10,
   "id": "b5038b3a",
   "metadata": {},
   "outputs": [
    {
     "name": "stdout",
     "output_type": "stream",
     "text": [
      "[[267  64  76  76  83  68  68  78  67]\n",
      " [ 75 247  59  62  81  69  69  81  74]\n",
      " [ 67  74 261  72  67  72  78  88  72]\n",
      " [ 71  69  65 252  81  59  63  85  64]\n",
      " [ 63  65  87  83 266  65  76  90  77]\n",
      " [ 80  63  68  70  72 239  81  76  60]\n",
      " [ 65  71  60  67  87  64 287  76  74]\n",
      " [ 71  56  73  60  75  67  72 289  54]\n",
      " [ 70  70  72  69  74  70  69  80 273]]\n",
      "Accuracy score for Random Forest Classification : 0.3166223404255319\n"
     ]
    }
   ],
   "source": [
    "# Training....\n",
    "from sklearn.metrics import confusion_matrix, accuracy_score\n",
    "from sklearn.ensemble import RandomForestClassifier\n",
    "random_forest_calssifier = RandomForestClassifier(\n",
    "    n_estimators=20, criterion='entropy')\n",
    "random_forest_calssifier.fit(X, y)\n",
    "\n",
    "# Testing....\n",
    "y_pred = random_forest_calssifier.predict(X)\n",
    "\n",
    "# Confusion Matrix....\n",
    "print(confusion_matrix(y_true=y, y_pred=y_pred))\n",
    "# Score....\n",
    "acc_random_forest_classification = accuracy_score(y_true=y, y_pred=y_pred)\n",
    "print(\"Accuracy score for Random Forest Classification :\",\n",
    "      acc_random_forest_classification)\n"
   ]
  },
  {
   "cell_type": "markdown",
   "id": "80662fe0",
   "metadata": {},
   "source": [
    "## Which is best for given dataset ?"
   ]
  },
  {
   "cell_type": "code",
   "execution_count": 11,
   "id": "03240380",
   "metadata": {},
   "outputs": [
    {
     "name": "stdout",
     "output_type": "stream",
     "text": [
      "Logistic Regression with accuracy score : 0.3081117021276596\n",
      "K Nearest Neighbor Classification with accuracy score : 0.2734042553191489\n",
      "(SVC) Support Vector Classification) with accuracy score : 0.3093085106382979\n",
      "Kernel (SVC) Support Vector Classification with accuracy score : 0.31502659574468084\n",
      "Naive Bayes Classification with accuracy score : 0.3046542553191489\n",
      "Decision Tree Classification with accuracy score : 0.3166223404255319\n",
      "Random Forest Classification with accuracy score : 0.3166223404255319\n",
      "🎉🎉🎉🎉🎉🎉🎉🎉🎉🎉🎉🎉🎉🎉🎉🎉🎉🎉🎉🎉🎉🎉🎉🎉🎉🎉🎉🎉🎉🎉🎉🎉🎉🎉🎉🎉🎉🎉🎉🎉🎉🎉🎉🎉🎉🎉🎉🎉🎉🎉🎉🎉\n",
      "Decision Tree Classification is the best model for given dataset 🥳 with Accuracy score 0.3166223404255319\n",
      "🎉🎉🎉🎉🎉🎉🎉🎉🎉🎉🎉🎉🎉🎉🎉🎉🎉🎉🎉🎉🎉🎉🎉🎉🎉🎉🎉🎉🎉🎉🎉🎉🎉🎉🎉🎉🎉🎉🎉🎉🎉🎉🎉🎉🎉🎉🎉🎉🎉🎉🎉🎉\n"
     ]
    }
   ],
   "source": [
    "accuracy_score_list = {\n",
    "    \"Logistic Regression\": acc_logistic_regression_classification,\n",
    "    \"K Nearest Neighbor Classification\": acc_k_nearest_neighbor_classification,\n",
    "    \"(SVC) Support Vector Classification)\": acc_svc_support_vector_classification,\n",
    "    \"Kernel (SVC) Support Vector Classification\": acc_kernel_support_vector_classification,\n",
    "    \"Naive Bayes Classification\": acc_naive_bayes_classification,\n",
    "    \"Decision Tree Classification\": acc_decision_tree_classification,\n",
    "    \"Random Forest Classification\": acc_random_forest_classification,\n",
    "}\n",
    "# Print final result of all model....\n",
    "for model, accuracy in accuracy_score_list.items():\n",
    "    print(f\"{model} with accuracy score : {accuracy}\")\n",
    "\n",
    "# find best of them....\n",
    "best_of_them = max(accuracy_score_list.values())\n",
    "\n",
    "# Print best of them....\n",
    "for model, r2 in accuracy_score_list.items():\n",
    "    if r2 == best_of_them:\n",
    "        print_me = f\"{model} is the best model for given dataset 🥳 with Accuracy score {r2}\"\n",
    "        print(\"🎉\" * (len(print_me) // 2))\n",
    "        print(print_me)\n",
    "        print(\"🎉\" * (len(print_me) // 2))\n",
    "        break\n"
   ]
  },
  {
   "cell_type": "markdown",
   "id": "bb8481a2",
   "metadata": {},
   "source": [
    "**Note:** Above result is only for the dataset (Breast_Cancer.csv) which we were given as the input. If you change the dataset, the result also changes certainly."
   ]
  }
 ],
 "metadata": {
  "kernelspec": {
   "display_name": "Python 3",
   "language": "python",
   "name": "python3"
  },
  "language_info": {
   "codemirror_mode": {
    "name": "ipython",
    "version": 3
   },
   "file_extension": ".py",
   "mimetype": "text/x-python",
   "name": "python",
   "nbconvert_exporter": "python",
   "pygments_lexer": "ipython3",
   "version": "3.9.7"
  }
 },
 "nbformat": 4,
 "nbformat_minor": 5
}
