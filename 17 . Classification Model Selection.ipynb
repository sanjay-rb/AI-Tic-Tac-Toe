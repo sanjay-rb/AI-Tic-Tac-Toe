{
 "cells": [
  {
   "cell_type": "markdown",
   "id": "d00ca570",
   "metadata": {},
   "source": [
    "# Classification Model Selection"
   ]
  },
  {
   "cell_type": "markdown",
   "id": "76dda459",
   "metadata": {},
   "source": [
    "## Data preprocessing\n",
    "\n",
    "✔️ Import the necessary libraries.\n",
    "\n",
    "✔️ Load dataset (tic-tac-toe.csv).\n",
    "\n",
    "❌ Our dataset doesn't have any missing data.\n",
    "\n",
    "✔️ Our data set having categorical data like x, o, b for X place, O place & Blank place. Need to do convert that.\n",
    "\n",
    "❌ We have all possible way of x, o positions, but we are training of full dataset.\n",
    "\n",
    "✔️ Applying feature scaling for the dataset will improve the performance of the model."
   ]
  },
  {
   "cell_type": "code",
   "execution_count": 1,
   "id": "4cd8f5f4",
   "metadata": {},
   "outputs": [],
   "source": [
    "# ✔️ Import the necessary libraries.\n",
    "import numpy as np\n",
    "import matplotlib.pyplot as plt\n",
    "import pandas as pd\n"
   ]
  },
  {
   "cell_type": "code",
   "execution_count": 2,
   "id": "024eb714",
   "metadata": {},
   "outputs": [],
   "source": [
    "# ✔️ Load dataset (tic-tac-toe.csv).\n",
    "\n",
    "dataset = pd.read_csv(r\"tic-tac-toe.csv\")\n",
    "X = dataset.iloc[:, [0,1,2,3,4,5,6,7,8]].values\n",
    "y = dataset.iloc[:, -1].values"
   ]
  },
  {
   "cell_type": "code",
   "execution_count": 3,
   "id": "f4570c1f",
   "metadata": {},
   "outputs": [
    {
     "name": "stdout",
     "output_type": "stream",
     "text": [
      "[[0 0 0 ... 0 0 2]\n",
      " [0 0 0 ... 0 0 2]\n",
      " [0 0 0 ... 0 0 2]\n",
      " ...\n",
      " [2 2 1 ... 1 0 0]\n",
      " [2 2 1 ... 1 0 0]\n",
      " [2 2 1 ... 1 0 0]]\n"
     ]
    }
   ],
   "source": [
    "# ✔️ Our data set having categorical data like x, o, b for X place, O place & Blank place. Need to do convert that.\n",
    "\n",
    "from sklearn.preprocessing import LabelEncoder\n",
    "le = LabelEncoder()\n",
    "for i in range(0, 8+1):\n",
    "    X[:, i] = le.fit_transform(X[:, i])\n",
    "print(X)"
   ]
  },
  {
   "cell_type": "code",
   "execution_count": 4,
   "id": "c769acad",
   "metadata": {},
   "outputs": [],
   "source": [
    "# ✔️ Applying feature scaling for the dataset will improve the performance of the model.\n",
    "\n",
    "from sklearn.preprocessing import StandardScaler\n",
    "x_sc = StandardScaler()\n",
    "X = x_sc.fit_transform(X)"
   ]
  },
  {
   "cell_type": "markdown",
   "id": "2aef8f27",
   "metadata": {},
   "source": [
    "## Train and evaluate the performance of Logistic Regression Classification\n"
   ]
  },
  {
   "cell_type": "code",
   "execution_count": 5,
   "id": "fe24929b",
   "metadata": {},
   "outputs": [
    {
     "name": "stdout",
     "output_type": "stream",
     "text": [
      "[[643 110 185  94  76  76 199  84 221]\n",
      " [137 446 125  88  42  86 336  32 338]\n",
      " [182 110 619  80  74  96 234  86 215]\n",
      " [136  96 332 410  42  30 143  98 327]\n",
      " [275  76 265  66 372  66 265  76 275]\n",
      " [329  98 138  24  42 416 337  96 134]\n",
      " [217  86 223  96  74  80 630 110 180]\n",
      " [342  26 333  86  42  88 128 452 133]\n",
      " [227  84 196  76  76  94 188 110 637]]\n",
      "Accuracy score for Logistic Regression Classification : 0.30849786552828173\n"
     ]
    },
    {
     "data": {
      "image/png": "[encoded data removed]",
      "text/plain": [
       "<Figure size 432x288 with 1 Axes>"
      ]
     },
     "metadata": {},
     "output_type": "display_data"
    }
   ],
   "source": [
    "# Training....\n",
    "from sklearn.metrics import confusion_matrix, accuracy_score\n",
    "from sklearn.linear_model import LogisticRegression\n",
    "logistic_regression_calssifier = LogisticRegression()\n",
    "logistic_regression_calssifier.fit(X, y)\n",
    "\n",
    "# Testing....\n",
    "y_pred = logistic_regression_calssifier.predict(X)\n",
    "\n",
    "# Confusion Matrix....\n",
    "print(confusion_matrix(y_true=y, y_pred=y_pred))\n",
    "# Score....\n",
    "acc_logistic_regression_classification = accuracy_score(\n",
    "    y_true=y, y_pred=y_pred)\n",
    "print(\"Accuracy score for Logistic Regression Classification :\",\n",
    "      acc_logistic_regression_classification)\n",
    "\n",
    "plt.figure().patch.set_facecolor('black')\n",
    "plt.pie(\n",
    "    [acc_logistic_regression_classification, 1-acc_logistic_regression_classification], \n",
    "    labels=['Success', \"Failed\"], \n",
    "    colors=['g', 'r'],\n",
    "    autopct='%1.0f%%',\n",
    ")\n",
    "plt.show() \n"
   ]
  },
  {
   "cell_type": "markdown",
   "id": "27446f3b",
   "metadata": {},
   "source": [
    "## Train and evaluate the performance of K Nearest Neighbor Classification"
   ]
  },
  {
   "cell_type": "code",
   "execution_count": 6,
   "id": "329c8ff5",
   "metadata": {},
   "outputs": [
    {
     "name": "stdout",
     "output_type": "stream",
     "text": [
      "[[734 288  81  64 202  70 147  62  40]\n",
      " [176 809  93  58 196  74 148  50  26]\n",
      " [299 272 539  54 200  84 158  50  40]\n",
      " [231 262 179 318 248  82 174  82  38]\n",
      " [213 229 151  96 796  56 113  36  46]\n",
      " [247 260 164 114 250 336 157  60  26]\n",
      " [185 221 109  90 280 116 645  28  22]\n",
      " [255 220 153  84 274  86 222 288  48]\n",
      " [194 221 141  90 262 138 264  94 284]]\n",
      "Accuracy score for K Nearest Neighbor Classification : 0.3167689434364995\n"
     ]
    },
    {
     "data": {
      "image/png": "[encoded data removed]",
      "text/plain": [
       "<Figure size 432x288 with 1 Axes>"
      ]
     },
     "metadata": {},
     "output_type": "display_data"
    }
   ],
   "source": [
    "# Training....\n",
    "from sklearn.metrics import confusion_matrix, accuracy_score\n",
    "from sklearn.neighbors import KNeighborsClassifier\n",
    "k_nn_calssifier = KNeighborsClassifier(n_neighbors=5, p=2, metric=\"minkowski\")\n",
    "k_nn_calssifier.fit(X, y)\n",
    "\n",
    "# Testing....\n",
    "y_pred = k_nn_calssifier.predict(X)\n",
    "\n",
    "\n",
    "# Confusion Matrix....\n",
    "print(confusion_matrix(y_true=y, y_pred=y_pred))\n",
    "# Score....\n",
    "acc_k_nearest_neighbor_classification = accuracy_score(\n",
    "    y_true=y, y_pred=y_pred)\n",
    "print(\"Accuracy score for K Nearest Neighbor Classification :\",\n",
    "      acc_k_nearest_neighbor_classification)\n",
    "\n",
    "plt.figure().patch.set_facecolor('black')\n",
    "plt.pie(\n",
    "    [acc_k_nearest_neighbor_classification, 1-acc_k_nearest_neighbor_classification], \n",
    "    labels=['Success', \"Failed\"], \n",
    "    colors=['g', 'r'],\n",
    "    autopct='%1.0f%%',\n",
    ")\n",
    "plt.show() \n"
   ]
  },
  {
   "cell_type": "markdown",
   "id": "67d089ff",
   "metadata": {},
   "source": [
    "## Train and evaluate the performance of (SVC) Support Vector Classification"
   ]
  },
  {
   "cell_type": "code",
   "execution_count": 7,
   "id": "f8e26b11",
   "metadata": {},
   "outputs": [
    {
     "name": "stdout",
     "output_type": "stream",
     "text": [
      "[[867  86 166  60   0   2 262   2 243]\n",
      " [158 246 140  54 126  50 394  34 428]\n",
      " [227  94 829   2   0  58 233   2 251]\n",
      " [188  94 367 172 130  34 148  64 417]\n",
      " [349  30 319  14 344   6 322   6 346]\n",
      " [386  92 158  24 138 180 400  60 176]\n",
      " [174  12 224  66  26   2 876  64 252]\n",
      " [401  20 402  54 154  56 169 200 174]\n",
      " [208  18 207   2  34  60 164  64 931]]\n",
      "Accuracy score for (SVC) Support Vector Classification : 0.3098319103521878\n"
     ]
    },
    {
     "data": {
      "image/png": "[encoded data removed]",
      "text/plain": [
       "<Figure size 432x288 with 1 Axes>"
      ]
     },
     "metadata": {},
     "output_type": "display_data"
    }
   ],
   "source": [
    "# Training....\n",
    "from sklearn.metrics import confusion_matrix, accuracy_score\n",
    "from sklearn.svm import SVC\n",
    "svc_calssifier = SVC(kernel=\"linear\", )\n",
    "svc_calssifier.fit(X, y)\n",
    "\n",
    "# Testing....\n",
    "y_pred = svc_calssifier.predict(X)\n",
    "\n",
    "# Confusion Matrix....\n",
    "print(confusion_matrix(y_true=y, y_pred=y_pred))\n",
    "# Score....\n",
    "acc_svc_support_vector_classification = accuracy_score(\n",
    "    y_true=y, y_pred=y_pred)\n",
    "print(\"Accuracy score for (SVC) Support Vector Classification :\",\n",
    "      acc_svc_support_vector_classification)\n",
    "\n",
    "plt.figure().patch.set_facecolor('black')\n",
    "plt.pie(\n",
    "    [acc_svc_support_vector_classification, 1-acc_svc_support_vector_classification], \n",
    "    labels=['Success', \"Failed\"], \n",
    "    colors=['g', 'r'],\n",
    "    autopct='%1.0f%%',\n",
    ")\n",
    "plt.show() \n"
   ]
  },
  {
   "cell_type": "markdown",
   "id": "ef77ebaf",
   "metadata": {},
   "source": [
    "## Train and evaluate the performance of Kernel (SVC) Support Vector Classification"
   ]
  },
  {
   "cell_type": "code",
   "execution_count": 8,
   "id": "a729375a",
   "metadata": {},
   "outputs": [
    {
     "name": "stdout",
     "output_type": "stream",
     "text": [
      "[[ 933   34  225   28    2   26  228   32  180]\n",
      " [ 233  166  252   46  112   52  381   36  352]\n",
      " [ 193   36 1004   24    0   28  187   32  192]\n",
      " [ 242   66  371  136  106   24  263   62  344]\n",
      " [ 350    0  378    0  292    0  372    0  344]\n",
      " [ 346   64  262   22  110  142  372   66  230]\n",
      " [ 198   32  190   30    0   30  998   34  184]\n",
      " [ 357   30  383   52  116   50  248  170  224]\n",
      " [ 186   34  237   28    6   34  217   34  912]]\n",
      "Accuracy score for Kernel (SVC) Support Vector Classification : 0.3170357524012807\n"
     ]
    },
    {
     "data": {
      "image/png": "[encoded data removed]",
      "text/plain": [
       "<Figure size 432x288 with 1 Axes>"
      ]
     },
     "metadata": {},
     "output_type": "display_data"
    }
   ],
   "source": [
    "# Training....\n",
    "from sklearn.metrics import confusion_matrix, accuracy_score\n",
    "from sklearn.svm import SVC\n",
    "kernel_svc_calssifier = SVC(kernel=\"rbf\")\n",
    "kernel_svc_calssifier.fit(X, y)\n",
    "\n",
    "# Testing....\n",
    "y_pred = kernel_svc_calssifier.predict(X)\n",
    "\n",
    "# Confusion Matrix....\n",
    "print(confusion_matrix(y_true=y, y_pred=y_pred))\n",
    "# Score....\n",
    "acc_kernel_support_vector_classification = accuracy_score(\n",
    "    y_true=y, y_pred=y_pred)\n",
    "print(\"Accuracy score for Kernel (SVC) Support Vector Classification :\",\n",
    "      acc_kernel_support_vector_classification)\n",
    "\n",
    "plt.figure().patch.set_facecolor('black')\n",
    "plt.pie(\n",
    "    [acc_kernel_support_vector_classification, 1-acc_kernel_support_vector_classification], \n",
    "    labels=['Success', \"Failed\"], \n",
    "    colors=['g', 'r'],\n",
    "    autopct='%1.0f%%',\n",
    ")\n",
    "plt.show() \n"
   ]
  },
  {
   "cell_type": "markdown",
   "id": "3936bc0f",
   "metadata": {},
   "source": [
    "## Train and evaluate the performance of Naive Bayes Classification"
   ]
  },
  {
   "cell_type": "code",
   "execution_count": 9,
   "id": "7a8fa199",
   "metadata": {},
   "outputs": [
    {
     "name": "stdout",
     "output_type": "stream",
     "text": [
      "[[  86  162   26  194  635  267   34  246   38]\n",
      " [   0  608    0  160  593  151    0  118    0]\n",
      " [  34  152   88  274  633  193   30  260   32]\n",
      " [   0  152    0  628  587   93    0  154    0]\n",
      " [   0    0    0    0 1736    0    0    0    0]\n",
      " [   0  150    0   88  587  633    0  156    0]\n",
      " [  32  256   32  190  633  277   86  156   34]\n",
      " [   0  110    0  150  593  161    0  616    0]\n",
      " [  32  242   34  264  635  197   26  166   92]]\n",
      "Accuracy score for Naive Bayes Classification : 0.30502934898612594\n"
     ]
    },
    {
     "data": {
      "image/png": "[encoded data removed]",
      "text/plain": [
       "<Figure size 432x288 with 1 Axes>"
      ]
     },
     "metadata": {},
     "output_type": "display_data"
    }
   ],
   "source": [
    "# Training....\n",
    "from sklearn.metrics import confusion_matrix, accuracy_score\n",
    "from sklearn.naive_bayes import GaussianNB\n",
    "naive_bayes_calssifier = GaussianNB()\n",
    "naive_bayes_calssifier.fit(X, y)\n",
    "\n",
    "# Testing....\n",
    "y_pred = naive_bayes_calssifier.predict(X)\n",
    "\n",
    "# Confusion Matrix....\n",
    "print(confusion_matrix(y_true=y, y_pred=y_pred))\n",
    "# Score....\n",
    "acc_naive_bayes_classification = accuracy_score(y_true=y, y_pred=y_pred)\n",
    "print(\"Accuracy score for Naive Bayes Classification :\",\n",
    "      acc_naive_bayes_classification)\n",
    "\n",
    "plt.figure().patch.set_facecolor('black')\n",
    "plt.pie(\n",
    "    [acc_naive_bayes_classification, 1-acc_naive_bayes_classification], \n",
    "    labels=['Success', \"Failed\"], \n",
    "    colors=['g', 'r'],\n",
    "    autopct='%1.0f%%',\n",
    ")\n",
    "plt.show() \n"
   ]
  },
  {
   "cell_type": "markdown",
   "id": "c18e4683",
   "metadata": {},
   "source": [
    "## Train and evaluate the performance of Decision Tree Classification"
   ]
  },
  {
   "cell_type": "code",
   "execution_count": 10,
   "id": "fe87f657",
   "metadata": {},
   "outputs": [
    {
     "name": "stdout",
     "output_type": "stream",
     "text": [
      "[[1688    0    0    0    0    0    0    0    0]\n",
      " [ 524 1106    0    0    0    0    0    0    0]\n",
      " [ 550  367  779    0    0    0    0    0    0]\n",
      " [ 526  387  261  440    0    0    0    0    0]\n",
      " [ 611  404  269  158  294    0    0    0    0]\n",
      " [ 552  370  248  146  102  196    0    0    0]\n",
      " [ 556  392  258  158  112   76  144    0    0]\n",
      " [ 554  366  260  156  108   72   50   64    0]\n",
      " [ 555  388  259  160  112   70   52   50   42]]\n",
      "Accuracy score for Decision Tree Classification : 0.3170357524012807\n"
     ]
    },
    {
     "data": {
      "image/png": "[encoded data removed]",
      "text/plain": [
       "<Figure size 432x288 with 1 Axes>"
      ]
     },
     "metadata": {},
     "output_type": "display_data"
    }
   ],
   "source": [
    "# Training....\n",
    "from sklearn.metrics import confusion_matrix, accuracy_score\n",
    "from sklearn.tree import DecisionTreeClassifier\n",
    "decision_tree_calssifier = DecisionTreeClassifier(criterion='entropy')\n",
    "decision_tree_calssifier.fit(X, y)\n",
    "\n",
    "# Testing....\n",
    "y_pred = decision_tree_calssifier.predict(X)\n",
    "\n",
    "# Confusion Matrix....\n",
    "print(confusion_matrix(y_true=y, y_pred=y_pred))\n",
    "# Score....\n",
    "acc_decision_tree_classification = accuracy_score(y_true=y, y_pred=y_pred)\n",
    "print(\"Accuracy score for Decision Tree Classification :\",\n",
    "      acc_decision_tree_classification)\n",
    "\n",
    "plt.figure().patch.set_facecolor('black')\n",
    "plt.pie(\n",
    "    [acc_decision_tree_classification, 1-acc_decision_tree_classification], \n",
    "    labels=['Success', \"Failed\"], \n",
    "    colors=['g', 'r'],\n",
    "    autopct='%1.0f%%',\n",
    ")\n",
    "plt.show()\n"
   ]
  },
  {
   "cell_type": "markdown",
   "id": "95c7123b",
   "metadata": {},
   "source": [
    "## Train and evaluate the performance of Random Forest Classification"
   ]
  },
  {
   "cell_type": "code",
   "execution_count": 11,
   "id": "b5038b3a",
   "metadata": {},
   "outputs": [
    {
     "name": "stdout",
     "output_type": "stream",
     "text": [
      "[[561 141 137 144 159 121 166 129 130]\n",
      " [146 521 110 160 155 126 157 132 123]\n",
      " [153 143 521 160 117 124 177 147 154]\n",
      " [132 121 129 548 135 122 181 136 110]\n",
      " [159 154 151 158 496 135 185 155 143]\n",
      " [148 151 130 130 159 473 160 135 128]\n",
      " [142 137 118 148 135 141 621 121 133]\n",
      " [155 135 143 140 150 128 144 501 134]\n",
      " [162 167 137 162 136 136 153 124 511]]\n",
      "Accuracy score for Random Forest Classification : 0.3170357524012807\n"
     ]
    },
    {
     "data": {
      "image/png": "[encoded data removed]",
      "text/plain": [
       "<Figure size 432x288 with 1 Axes>"
      ]
     },
     "metadata": {},
     "output_type": "display_data"
    }
   ],
   "source": [
    "# Training....\n",
    "from sklearn.metrics import confusion_matrix, accuracy_score\n",
    "from sklearn.ensemble import RandomForestClassifier\n",
    "random_forest_calssifier = RandomForestClassifier(\n",
    "    n_estimators=20, criterion='entropy')\n",
    "random_forest_calssifier.fit(X, y)\n",
    "\n",
    "# Testing....\n",
    "y_pred = random_forest_calssifier.predict(X)\n",
    "\n",
    "# Confusion Matrix....\n",
    "print(confusion_matrix(y_true=y, y_pred=y_pred))\n",
    "# Score....\n",
    "acc_random_forest_classification = accuracy_score(y_true=y, y_pred=y_pred)\n",
    "print(\"Accuracy score for Random Forest Classification :\",\n",
    "      acc_random_forest_classification)\n",
    "\n",
    "    \n",
    "plt.figure().patch.set_facecolor('black')\n",
    "plt.pie(\n",
    "    [acc_random_forest_classification, 1-acc_random_forest_classification], \n",
    "    labels=['Success', \"Failed\"], \n",
    "    colors=['g', 'r'],\n",
    "    autopct='%1.0f%%',\n",
    ")\n",
    "plt.show()\n"
   ]
  },
  {
   "cell_type": "markdown",
   "id": "80662fe0",
   "metadata": {},
   "source": [
    "## Which is best for given dataset ?"
   ]
  },
  {
   "cell_type": "code",
   "execution_count": 12,
   "id": "03240380",
   "metadata": {},
   "outputs": [
    {
     "name": "stdout",
     "output_type": "stream",
     "text": [
      "Logistic Regression with accuracy score : 0.30849786552828173\n",
      "K Nearest Neighbor Classification with accuracy score : 0.3167689434364995\n",
      "(SVC) Support Vector Classification) with accuracy score : 0.3098319103521878\n",
      "Kernel (SVC) Support Vector Classification with accuracy score : 0.3170357524012807\n",
      "Naive Bayes Classification with accuracy score : 0.30502934898612594\n",
      "Decision Tree Classification with accuracy score : 0.3170357524012807\n",
      "Random Forest Classification with accuracy score : 0.3170357524012807\n",
      "🎉🎉🎉🎉🎉🎉🎉🎉🎉🎉🎉🎉🎉🎉🎉🎉🎉🎉🎉🎉🎉🎉🎉🎉🎉🎉🎉🎉🎉🎉🎉🎉🎉🎉🎉🎉🎉🎉🎉🎉🎉🎉🎉🎉🎉🎉🎉🎉🎉🎉🎉🎉🎉🎉🎉🎉🎉🎉🎉\n",
      "Kernel (SVC) Support Vector Classification is the best model for given dataset 🥳 with Accuracy score 0.3170357524012807\n",
      "🎉🎉🎉🎉🎉🎉🎉🎉🎉🎉🎉🎉🎉🎉🎉🎉🎉🎉🎉🎉🎉🎉🎉🎉🎉🎉🎉🎉🎉🎉🎉🎉🎉🎉🎉🎉🎉🎉🎉🎉🎉🎉🎉🎉🎉🎉🎉🎉🎉🎉🎉🎉🎉🎉🎉🎉🎉🎉🎉\n"
     ]
    }
   ],
   "source": [
    "accuracy_score_list = {\n",
    "    \"Logistic Regression\": acc_logistic_regression_classification,\n",
    "    \"K Nearest Neighbor Classification\": acc_k_nearest_neighbor_classification,\n",
    "    \"(SVC) Support Vector Classification)\": acc_svc_support_vector_classification,\n",
    "    \"Kernel (SVC) Support Vector Classification\": acc_kernel_support_vector_classification,\n",
    "    \"Naive Bayes Classification\": acc_naive_bayes_classification,\n",
    "    \"Decision Tree Classification\": acc_decision_tree_classification,\n",
    "    \"Random Forest Classification\": acc_random_forest_classification,\n",
    "}\n",
    "# Print final result of all model....\n",
    "for model, accuracy in accuracy_score_list.items():\n",
    "    print(f\"{model} with accuracy score : {accuracy}\")\n",
    "\n",
    "# find best of them....\n",
    "best_of_them = max(accuracy_score_list.values())\n",
    "\n",
    "# Print best of them....\n",
    "for model, r2 in accuracy_score_list.items():\n",
    "    if r2 == best_of_them:\n",
    "        print_me = f\"{model} is the best model for given dataset 🥳 with Accuracy score {r2}\"\n",
    "        print(\"🎉\" * (len(print_me) // 2))\n",
    "        print(print_me)\n",
    "        print(\"🎉\" * (len(print_me) // 2))\n",
    "        break\n"
   ]
  }
 ],
 "metadata": {
  "kernelspec": {
   "display_name": "Python 3",
   "language": "python",
   "name": "python3"
  },
  "language_info": {
   "codemirror_mode": {
    "name": "ipython",
    "version": 3
   },
   "file_extension": ".py",
   "mimetype": "text/x-python",
   "name": "python",
   "nbconvert_exporter": "python",
   "pygments_lexer": "ipython3",
   "version": "3.9.7"
  }
 },
 "nbformat": 4,
 "nbformat_minor": 5
}
