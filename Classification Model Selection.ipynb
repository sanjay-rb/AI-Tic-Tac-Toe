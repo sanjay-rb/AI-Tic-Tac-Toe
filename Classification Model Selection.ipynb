{
 "cells": [
  {
   "cell_type": "markdown",
   "id": "d00ca570",
   "metadata": {},
   "source": [
    "# Classification Model Selection"
   ]
  },
  {
   "cell_type": "markdown",
   "id": "76dda459",
   "metadata": {},
   "source": [
    "## Data preprocessing\n",
    "\n",
    "✔️ Import the necessary libraries.\n",
    "\n",
    "✔️ Load dataset (tic-tac-toe.csv).\n",
    "\n",
    "❌ Our dataset doesn't have any missing data.\n",
    "\n",
    "✔️ Our data set having categorical data like x, o, b for X place, O place & Blank place. Need to do convert that.\n",
    "\n",
    "❌ We have all possible way of x, o positions, but we are training of full dataset.\n",
    "\n",
    "✔️ Applying feature scaling for the dataset will improve the performance of the model."
   ]
  },
  {
   "cell_type": "code",
   "execution_count": 1,
   "id": "4cd8f5f4",
   "metadata": {},
   "outputs": [],
   "source": [
    "# ✔️ Import the necessary libraries.\n",
    "\n",
    "import matplotlib.pyplot as plt\n",
    "import pandas as pd\n"
   ]
  },
  {
   "cell_type": "code",
   "execution_count": 2,
   "id": "024eb714",
   "metadata": {},
   "outputs": [],
   "source": [
    "# ✔️ Load dataset (tic-tac-toe.csv).\n",
    "\n",
    "dataset = pd.read_csv(r\"tic-tac-toe.csv\")\n",
    "X = dataset.iloc[:, [0,1,2,3,4,5,6,7,8]].values\n",
    "y = dataset.iloc[:, -1].values"
   ]
  },
  {
   "cell_type": "code",
   "execution_count": 3,
   "id": "f4570c1f",
   "metadata": {},
   "outputs": [
    {
     "name": "stdout",
     "output_type": "stream",
     "text": [
      "[[0 0 0 ... 0 0 2]\n",
      " [0 0 0 ... 0 0 2]\n",
      " [0 0 0 ... 0 0 2]\n",
      " ...\n",
      " [2 2 1 ... 1 0 0]\n",
      " [2 2 1 ... 1 0 0]\n",
      " [2 2 1 ... 1 0 0]]\n"
     ]
    }
   ],
   "source": [
    "# ✔️ Our data set having categorical data like x, o, b for X place, O place & Blank place. Need to do convert that.\n",
    "\n",
    "from sklearn.preprocessing import LabelEncoder\n",
    "le = LabelEncoder()\n",
    "for i in range(0, 8+1):\n",
    "    X[:, i] = le.fit_transform(X[:, i])\n",
    "print(X)"
   ]
  },
  {
   "cell_type": "code",
   "execution_count": 4,
   "id": "c769acad",
   "metadata": {},
   "outputs": [
    {
     "name": "stdout",
     "output_type": "stream",
     "text": [
      "[[-1.06868641 -1.08347585 -1.06589971 ... -1.06589971 -1.08347585\n",
      "   1.22965625]\n",
      " [-1.06868641 -1.08347585 -1.06589971 ... -1.06589971 -1.08347585\n",
      "   1.22965625]\n",
      " [-1.06868641 -1.08347585 -1.06589971 ... -1.06589971 -1.08347585\n",
      "   1.22965625]\n",
      " ...\n",
      " [ 1.22965625  1.20530391  0.08489738 ...  0.08489738 -1.08347585\n",
      "  -1.06868641]\n",
      " [ 1.22965625  1.20530391  0.08489738 ...  0.08489738 -1.08347585\n",
      "  -1.06868641]\n",
      " [ 1.22965625  1.20530391  0.08489738 ...  0.08489738 -1.08347585\n",
      "  -1.06868641]]\n"
     ]
    }
   ],
   "source": [
    "# ✔️ Applying feature scaling for the dataset will improve the performance of the model.\n",
    "\n",
    "from sklearn.preprocessing import StandardScaler\n",
    "x_sc = StandardScaler()\n",
    "X = x_sc.fit_transform(X)\n",
    "print(X)"
   ]
  },
  {
   "cell_type": "markdown",
   "id": "2aef8f27",
   "metadata": {},
   "source": [
    "## Train and evaluate the performance of Logistic Regression Classification\n"
   ]
  },
  {
   "cell_type": "code",
   "execution_count": 5,
   "id": "fe24929b",
   "metadata": {},
   "outputs": [
    {
     "name": "stdout",
     "output_type": "stream",
     "text": [
      "[[645 110 188  94  76  76 196  84 219]\n",
      " [137 452 128  88  42  86 333  26 338]\n",
      " [182 110 630  80  74  96 223  86 215]\n",
      " [136  96 337 410  42  30 138  98 327]\n",
      " [275  76 265  66 372  66 265  76 275]\n",
      " [329  98 143  24  42 416 332  96 134]\n",
      " [217  86 234  96  74  80 619 110 180]\n",
      " [342  32 336  86  42  88 125 446 133]\n",
      " [229  84 199  76  76  94 185 110 635]]\n",
      "Accuracy score for Logistic Regression Classification : 0.30849786552828173\n"
     ]
    },
    {
     "data": {
      "image/png": "[encoded data removed]",
      "text/plain": [
       "<Figure size 432x288 with 1 Axes>"
      ]
     },
     "metadata": {},
     "output_type": "display_data"
    }
   ],
   "source": [
    "# Training....\n",
    "from sklearn.metrics import confusion_matrix, accuracy_score\n",
    "from sklearn.linear_model import LogisticRegression\n",
    "logistic_regression_calssifier = LogisticRegression()\n",
    "logistic_regression_calssifier.fit(X, y)\n",
    "\n",
    "# Testing....\n",
    "y_pred = logistic_regression_calssifier.predict(X)\n",
    "\n",
    "# Confusion Matrix....\n",
    "print(confusion_matrix(y_true=y, y_pred=y_pred))\n",
    "# Score....\n",
    "acc_logistic_regression_classification = accuracy_score(\n",
    "    y_true=y, y_pred=y_pred)\n",
    "print(\"Accuracy score for Logistic Regression Classification :\",\n",
    "      acc_logistic_regression_classification)\n",
    "\n",
    "plt.figure().patch.set_facecolor('black')\n",
    "plt.pie(\n",
    "    [acc_logistic_regression_classification, 1-acc_logistic_regression_classification], \n",
    "    labels=['Success', \"Failed\"], \n",
    "    colors=['g', 'r'],\n",
    "    autopct='%1.0f%%',\n",
    ")\n",
    "plt.show() \n"
   ]
  },
  {
   "cell_type": "markdown",
   "id": "27446f3b",
   "metadata": {},
   "source": [
    "## Train and evaluate the performance of K Nearest Neighbor Classification"
   ]
  },
  {
   "cell_type": "code",
   "execution_count": 6,
   "id": "329c8ff5",
   "metadata": {},
   "outputs": [
    {
     "name": "stdout",
     "output_type": "stream",
     "text": [
      "[[947  99 253  66  76  86  75  48  38]\n",
      " [299 720 226  66  94  76  64  36  49]\n",
      " [204 184 940  78  82  76  50  52  30]\n",
      " [319 276 323 414  58  58  94  42  30]\n",
      " [331 259 312 190 378  50 113  58  45]\n",
      " [297 257 271 152 120 302 107  62  46]\n",
      " [257 210 369 128 110 100 465  30  27]\n",
      " [268 219 347 112 110 104 132 314  24]\n",
      " [276 236 299 166 112 118 140  80 261]]\n",
      "Accuracy score for K Nearest Neighbor Classification : 0.31623532550693706\n"
     ]
    },
    {
     "data": {
      "image/png": "[encoded data removed]",
      "text/plain": [
       "<Figure size 432x288 with 1 Axes>"
      ]
     },
     "metadata": {},
     "output_type": "display_data"
    }
   ],
   "source": [
    "# Training....\n",
    "from sklearn.metrics import confusion_matrix, accuracy_score\n",
    "from sklearn.neighbors import KNeighborsClassifier\n",
    "k_nn_calssifier = KNeighborsClassifier(n_neighbors=5, p=2, metric=\"minkowski\")\n",
    "k_nn_calssifier.fit(X, y)\n",
    "\n",
    "# Testing....\n",
    "y_pred = k_nn_calssifier.predict(X)\n",
    "\n",
    "\n",
    "# Confusion Matrix....\n",
    "print(confusion_matrix(y_true=y, y_pred=y_pred))\n",
    "# Score....\n",
    "acc_k_nearest_neighbor_classification = accuracy_score(\n",
    "    y_true=y, y_pred=y_pred)\n",
    "print(\"Accuracy score for K Nearest Neighbor Classification :\",\n",
    "      acc_k_nearest_neighbor_classification)\n",
    "\n",
    "plt.figure().patch.set_facecolor('black')\n",
    "plt.pie(\n",
    "    [acc_k_nearest_neighbor_classification, 1-acc_k_nearest_neighbor_classification], \n",
    "    labels=['Success', \"Failed\"], \n",
    "    colors=['g', 'r'],\n",
    "    autopct='%1.0f%%',\n",
    ")\n",
    "plt.show() \n"
   ]
  },
  {
   "cell_type": "markdown",
   "id": "67d089ff",
   "metadata": {},
   "source": [
    "## Train and evaluate the performance of (SVC) Support Vector Classification"
   ]
  },
  {
   "cell_type": "code",
   "execution_count": 7,
   "id": "f8e26b11",
   "metadata": {},
   "outputs": [
    {
     "name": "stdout",
     "output_type": "stream",
     "text": [
      "[[867  86 166  60   0   2 262   2 243]\n",
      " [158 246 140  54 126  50 394  34 428]\n",
      " [227  94 829   2   0  58 233   2 251]\n",
      " [188  94 367 172 130  34 148  64 417]\n",
      " [349  30 319  14 344   6 322   6 346]\n",
      " [386  92 158  24 138 180 400  60 176]\n",
      " [174  12 224  66  26   2 876  64 252]\n",
      " [401  20 402  54 154  56 169 200 174]\n",
      " [208  18 207   2  34  60 164  64 931]]\n",
      "Accuracy score for (SVC) Support Vector Classification : 0.3098319103521878\n"
     ]
    },
    {
     "data": {
      "image/png": "[encoded data removed]",
      "text/plain": [
       "<Figure size 432x288 with 1 Axes>"
      ]
     },
     "metadata": {},
     "output_type": "display_data"
    }
   ],
   "source": [
    "# Training....\n",
    "from sklearn.metrics import confusion_matrix, accuracy_score\n",
    "from sklearn.svm import SVC\n",
    "svc_calssifier = SVC(kernel=\"linear\", )\n",
    "svc_calssifier.fit(X, y)\n",
    "\n",
    "# Testing....\n",
    "y_pred = svc_calssifier.predict(X)\n",
    "\n",
    "# Confusion Matrix....\n",
    "print(confusion_matrix(y_true=y, y_pred=y_pred))\n",
    "# Score....\n",
    "acc_svc_support_vector_classification = accuracy_score(\n",
    "    y_true=y, y_pred=y_pred)\n",
    "print(\"Accuracy score for (SVC) Support Vector Classification :\",\n",
    "      acc_svc_support_vector_classification)\n",
    "\n",
    "plt.figure().patch.set_facecolor('black')\n",
    "plt.pie(\n",
    "    [acc_svc_support_vector_classification, 1-acc_svc_support_vector_classification], \n",
    "    labels=['Success', \"Failed\"], \n",
    "    colors=['g', 'r'],\n",
    "    autopct='%1.0f%%',\n",
    ")\n",
    "plt.show() \n"
   ]
  },
  {
   "cell_type": "markdown",
   "id": "ef77ebaf",
   "metadata": {},
   "source": [
    "## Train and evaluate the performance of Kernel (SVC) Support Vector Classification"
   ]
  },
  {
   "cell_type": "code",
   "execution_count": 8,
   "id": "a729375a",
   "metadata": {},
   "outputs": [
    {
     "name": "stdout",
     "output_type": "stream",
     "text": [
      "[[ 933   34  225   28    2   26  228   32  180]\n",
      " [ 233  166  252   46  112   52  381   36  352]\n",
      " [ 193   36 1004   24    0   28  187   32  192]\n",
      " [ 242   66  371  136  106   24  263   62  344]\n",
      " [ 350    0  378    0  292    0  372    0  344]\n",
      " [ 346   64  262   22  110  142  372   66  230]\n",
      " [ 198   32  190   30    0   30  998   34  184]\n",
      " [ 357   30  383   52  116   50  248  170  224]\n",
      " [ 186   34  237   28    6   34  217   34  912]]\n",
      "Accuracy score for Kernel (SVC) Support Vector Classification : 0.3170357524012807\n"
     ]
    },
    {
     "data": {
      "image/png": "[encoded data removed]",
      "text/plain": [
       "<Figure size 432x288 with 1 Axes>"
      ]
     },
     "metadata": {},
     "output_type": "display_data"
    }
   ],
   "source": [
    "# Training....\n",
    "from sklearn.metrics import confusion_matrix, accuracy_score\n",
    "from sklearn.svm import SVC\n",
    "kernel_svc_calssifier = SVC(kernel=\"rbf\")\n",
    "kernel_svc_calssifier.fit(X, y)\n",
    "\n",
    "# Testing....\n",
    "y_pred = kernel_svc_calssifier.predict(X)\n",
    "\n",
    "# Confusion Matrix....\n",
    "print(confusion_matrix(y_true=y, y_pred=y_pred))\n",
    "# Score....\n",
    "acc_kernel_support_vector_classification = accuracy_score(\n",
    "    y_true=y, y_pred=y_pred)\n",
    "print(\"Accuracy score for Kernel (SVC) Support Vector Classification :\",\n",
    "      acc_kernel_support_vector_classification)\n",
    "\n",
    "plt.figure().patch.set_facecolor('black')\n",
    "plt.pie(\n",
    "    [acc_kernel_support_vector_classification, 1-acc_kernel_support_vector_classification], \n",
    "    labels=['Success', \"Failed\"], \n",
    "    colors=['g', 'r'],\n",
    "    autopct='%1.0f%%',\n",
    ")\n",
    "plt.show() \n"
   ]
  },
  {
   "cell_type": "markdown",
   "id": "3936bc0f",
   "metadata": {},
   "source": [
    "## Train and evaluate the performance of Naive Bayes Classification"
   ]
  },
  {
   "cell_type": "code",
   "execution_count": 9,
   "id": "7a8fa199",
   "metadata": {},
   "outputs": [
    {
     "name": "stdout",
     "output_type": "stream",
     "text": [
      "[[  86  162   26  194  635  267   34  246   38]\n",
      " [   0  608    0  160  593  151    0  118    0]\n",
      " [  34  152   88  274  633  193   30  260   32]\n",
      " [   0  152    0  628  587   93    0  154    0]\n",
      " [   0    0    0    0 1736    0    0    0    0]\n",
      " [   0  150    0   88  587  633    0  156    0]\n",
      " [  32  256   32  190  633  277   86  156   34]\n",
      " [   0  110    0  150  593  161    0  616    0]\n",
      " [  32  242   34  264  635  197   26  166   92]]\n",
      "Accuracy score for Naive Bayes Classification : 0.30502934898612594\n"
     ]
    },
    {
     "data": {
      "image/png": "[encoded data removed]",
      "text/plain": [
       "<Figure size 432x288 with 1 Axes>"
      ]
     },
     "metadata": {},
     "output_type": "display_data"
    }
   ],
   "source": [
    "# Training....\n",
    "from sklearn.metrics import confusion_matrix, accuracy_score\n",
    "from sklearn.naive_bayes import GaussianNB\n",
    "naive_bayes_calssifier = GaussianNB()\n",
    "naive_bayes_calssifier.fit(X, y)\n",
    "\n",
    "# Testing....\n",
    "y_pred = naive_bayes_calssifier.predict(X)\n",
    "\n",
    "# Confusion Matrix....\n",
    "print(confusion_matrix(y_true=y, y_pred=y_pred))\n",
    "# Score....\n",
    "acc_naive_bayes_classification = accuracy_score(y_true=y, y_pred=y_pred)\n",
    "print(\"Accuracy score for Naive Bayes Classification :\",\n",
    "      acc_naive_bayes_classification)\n",
    "\n",
    "plt.figure().patch.set_facecolor('black')\n",
    "plt.pie(\n",
    "    [acc_naive_bayes_classification, 1-acc_naive_bayes_classification], \n",
    "    labels=['Success', \"Failed\"], \n",
    "    colors=['g', 'r'],\n",
    "    autopct='%1.0f%%',\n",
    ")\n",
    "plt.show() \n"
   ]
  },
  {
   "cell_type": "markdown",
   "id": "c18e4683",
   "metadata": {},
   "source": [
    "## Train and evaluate the performance of Decision Tree Classification"
   ]
  },
  {
   "cell_type": "code",
   "execution_count": 10,
   "id": "fe87f657",
   "metadata": {},
   "outputs": [
    {
     "name": "stdout",
     "output_type": "stream",
     "text": [
      "[[1688    0    0    0    0    0    0    0    0]\n",
      " [ 524 1106    0    0    0    0    0    0    0]\n",
      " [ 550  367  779    0    0    0    0    0    0]\n",
      " [ 526  387  261  440    0    0    0    0    0]\n",
      " [ 611  404  269  158  294    0    0    0    0]\n",
      " [ 552  370  248  146  102  196    0    0    0]\n",
      " [ 556  392  258  158  112   76  144    0    0]\n",
      " [ 554  366  260  156  108   72   50   64    0]\n",
      " [ 555  388  259  160  112   70   52   50   42]]\n",
      "Accuracy score for Decision Tree Classification : 0.3170357524012807\n"
     ]
    },
    {
     "data": {
      "image/png": "[encoded data removed]",
      "text/plain": [
       "<Figure size 432x288 with 1 Axes>"
      ]
     },
     "metadata": {},
     "output_type": "display_data"
    }
   ],
   "source": [
    "# Training....\n",
    "from sklearn.metrics import confusion_matrix, accuracy_score\n",
    "from sklearn.tree import DecisionTreeClassifier\n",
    "decision_tree_calssifier = DecisionTreeClassifier(criterion='entropy')\n",
    "decision_tree_calssifier.fit(X, y)\n",
    "\n",
    "# Testing....\n",
    "y_pred = decision_tree_calssifier.predict(X)\n",
    "\n",
    "# Confusion Matrix....\n",
    "print(confusion_matrix(y_true=y, y_pred=y_pred))\n",
    "# Score....\n",
    "acc_decision_tree_classification = accuracy_score(y_true=y, y_pred=y_pred)\n",
    "print(\"Accuracy score for Decision Tree Classification :\",\n",
    "      acc_decision_tree_classification)\n",
    "\n",
    "plt.figure().patch.set_facecolor('black')\n",
    "plt.pie(\n",
    "    [acc_decision_tree_classification, 1-acc_decision_tree_classification], \n",
    "    labels=['Success', \"Failed\"], \n",
    "    colors=['g', 'r'],\n",
    "    autopct='%1.0f%%',\n",
    ")\n",
    "plt.show()\n"
   ]
  },
  {
   "cell_type": "markdown",
   "id": "95c7123b",
   "metadata": {},
   "source": [
    "## Train and evaluate the performance of Random Forest Classification"
   ]
  },
  {
   "cell_type": "code",
   "execution_count": 11,
   "id": "b5038b3a",
   "metadata": {},
   "outputs": [
    {
     "name": "stdout",
     "output_type": "stream",
     "text": [
      "[[575 156 130 102 160 165 132 136 132]\n",
      " [132 513 138 139 156 145 132 126 149]\n",
      " [148 135 490 148 176 170 140 148 141]\n",
      " [138 167 142 472 158 136 144 120 137]\n",
      " [159 145 128 139 566 155 164 126 154]\n",
      " [105 146 116 107 163 527 152 146 152]\n",
      " [161 153 110 143 151 135 564 138 141]\n",
      " [140 124 154 142 172 122 142 514 120]\n",
      " [148 161 110 132 160 149 152 144 532]]\n",
      "Accuracy score for Random Forest Classification : 0.3170357524012807\n"
     ]
    },
    {
     "data": {
      "image/png": "[encoded data removed]",
      "text/plain": [
       "<Figure size 432x288 with 1 Axes>"
      ]
     },
     "metadata": {},
     "output_type": "display_data"
    }
   ],
   "source": [
    "# Training....\n",
    "from sklearn.metrics import confusion_matrix, accuracy_score\n",
    "from sklearn.ensemble import RandomForestClassifier\n",
    "random_forest_calssifier = RandomForestClassifier(\n",
    "    n_estimators=20, criterion='entropy')\n",
    "random_forest_calssifier.fit(X, y)\n",
    "\n",
    "# Testing....\n",
    "y_pred = random_forest_calssifier.predict(X)\n",
    "\n",
    "# Confusion Matrix....\n",
    "print(confusion_matrix(y_true=y, y_pred=y_pred))\n",
    "# Score....\n",
    "acc_random_forest_classification = accuracy_score(y_true=y, y_pred=y_pred)\n",
    "print(\"Accuracy score for Random Forest Classification :\",\n",
    "      acc_random_forest_classification)\n",
    "\n",
    "    \n",
    "plt.figure().patch.set_facecolor('black')\n",
    "plt.pie(\n",
    "    [acc_random_forest_classification, 1-acc_random_forest_classification], \n",
    "    labels=['Success', \"Failed\"], \n",
    "    colors=['g', 'r'],\n",
    "    autopct='%1.0f%%',\n",
    ")\n",
    "plt.show()\n"
   ]
  },
  {
   "cell_type": "markdown",
   "id": "80662fe0",
   "metadata": {},
   "source": [
    "## Which is best for given dataset ?"
   ]
  },
  {
   "cell_type": "code",
   "execution_count": 12,
   "id": "03240380",
   "metadata": {},
   "outputs": [
    {
     "name": "stdout",
     "output_type": "stream",
     "text": [
      "Logistic Regression with accuracy score : 0.30849786552828173\n",
      "K Nearest Neighbor Classification with accuracy score : 0.31623532550693706\n",
      "(SVC) Support Vector Classification) with accuracy score : 0.3098319103521878\n",
      "Kernel (SVC) Support Vector Classification with accuracy score : 0.3170357524012807\n",
      "Naive Bayes Classification with accuracy score : 0.30502934898612594\n",
      "Decision Tree Classification with accuracy score : 0.3170357524012807\n",
      "Random Forest Classification with accuracy score : 0.3170357524012807\n",
      "🎉🎉🎉🎉🎉🎉🎉🎉🎉🎉🎉🎉🎉🎉🎉🎉🎉🎉🎉🎉🎉🎉🎉🎉🎉🎉🎉🎉🎉🎉🎉🎉🎉🎉🎉🎉🎉🎉🎉🎉🎉🎉🎉🎉🎉🎉🎉🎉🎉🎉🎉🎉🎉🎉🎉🎉🎉🎉🎉\n",
      "Kernel (SVC) Support Vector Classification is the best model for given dataset 🥳 with Accuracy score 0.3170357524012807\n",
      "🎉🎉🎉🎉🎉🎉🎉🎉🎉🎉🎉🎉🎉🎉🎉🎉🎉🎉🎉🎉🎉🎉🎉🎉🎉🎉🎉🎉🎉🎉🎉🎉🎉🎉🎉🎉🎉🎉🎉🎉🎉🎉🎉🎉🎉🎉🎉🎉🎉🎉🎉🎉🎉🎉🎉🎉🎉🎉🎉\n"
     ]
    }
   ],
   "source": [
    "accuracy_score_list = {\n",
    "    \"Logistic Regression\": acc_logistic_regression_classification,\n",
    "    \"K Nearest Neighbor Classification\": acc_k_nearest_neighbor_classification,\n",
    "    \"(SVC) Support Vector Classification)\": acc_svc_support_vector_classification,\n",
    "    \"Kernel (SVC) Support Vector Classification\": acc_kernel_support_vector_classification,\n",
    "    \"Naive Bayes Classification\": acc_naive_bayes_classification,\n",
    "    \"Decision Tree Classification\": acc_decision_tree_classification,\n",
    "    \"Random Forest Classification\": acc_random_forest_classification,\n",
    "}\n",
    "# Print final result of all model....\n",
    "for model, accuracy in accuracy_score_list.items():\n",
    "    print(f\"{model} with accuracy score : {accuracy}\")\n",
    "\n",
    "# find best of them....\n",
    "best_of_them = max(accuracy_score_list.values())\n",
    "\n",
    "# Print best of them....\n",
    "for model, r2 in accuracy_score_list.items():\n",
    "    if r2 == best_of_them:\n",
    "        print_me = f\"{model} is the best model for given dataset 🥳 with Accuracy score {r2}\"\n",
    "        print(\"🎉\" * (len(print_me) // 2))\n",
    "        print(print_me)\n",
    "        print(\"🎉\" * (len(print_me) // 2))\n",
    "        break\n"
   ]
  }
 ],
 "metadata": {
  "kernelspec": {
   "display_name": "Python 3",
   "language": "python",
   "name": "python3"
  },
  "language_info": {
   "codemirror_mode": {
    "name": "ipython",
    "version": 3
   },
   "file_extension": ".py",
   "mimetype": "text/x-python",
   "name": "python",
   "nbconvert_exporter": "python",
   "pygments_lexer": "ipython3",
   "version": "3.9.7"
  }
 },
 "nbformat": 4,
 "nbformat_minor": 5
}
